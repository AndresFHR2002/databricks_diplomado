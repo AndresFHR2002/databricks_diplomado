{
 "cells": [
  {
   "cell_type": "code",
   "execution_count": 0,
   "metadata": {
    "application/vnd.databricks.v1+cell": {
     "cellMetadata": {
      "byteLimit": 2048000,
      "rowLimit": 10000
     },
     "inputWidgets": {},
     "nuid": "5cecc6b5-96cb-4ab1-b690-e83aa95022d6",
     "showTitle": false,
     "tableResultSettingsMap": {},
     "title": ""
    }
   },
   "outputs": [],
   "source": [
    "\n",
    "from sodapy import Socrata\n",
    "\n",
    "#client = Socrata(\"www.datos.gov.co\", None)\n",
    "\n",
    "token = dbutils.secrets.get(\"claves\",\"token_app\")\n",
    "codigo_dataset = dbutils.widgets.get(\"codigo_dataset\")\n",
    "\n",
    "client = Socrata(\"www.datos.gov.co\",str(token),timeout=1000)"
   ]
  },
  {
   "cell_type": "code",
   "execution_count": 0,
   "metadata": {
    "application/vnd.databricks.v1+cell": {
     "cellMetadata": {
      "byteLimit": 2048000,
      "rowLimit": 10000
     },
     "inputWidgets": {},
     "nuid": "628dd126-4572-497f-a54f-f45ae5565698",
     "showTitle": false,
     "tableResultSettingsMap": {},
     "title": ""
    }
   },
   "outputs": [],
   "source": [
    "from sodapy import Socrata\n",
    "import time\n",
    "\n",
    "# Datos conocidos\n",
    "TOTAL_REGISTROS = 19450865\n",
    "limit = 500000\n",
    "offset = 0\n",
    "write_mode = \"overwrite\"\n",
    "reintentos = 5\n",
    "\n",
    "# Conexión\n",
    "codigo_dataset = dbutils.widgets.get(\"codigo_dataset\")\n",
    "token = dbutils.secrets.get(\"claves\", \"token_app\")\n",
    "client = Socrata(\"www.datos.gov.co\", str(token), timeout=1000)\n",
    "\n",
    "print(f\"🚀 Iniciando carga de {TOTAL_REGISTROS:,} registros del dataset: {codigo_dataset}\")\n",
    "\n",
    "while offset < TOTAL_REGISTROS:\n",
    "    intentos = 0\n",
    "\n",
    "    while intentos < reintentos:\n",
    "        try:\n",
    "            print(f\"🔄 Obteniendo y cargando lote desde offset {offset}...\")\n",
    "\n",
    "            query = f\"\"\"\n",
    "                SELECT numero_del_contrato, numero_de_proceso, nit_de_la_entidad,\n",
    "                       documento_proveedor, estado_del_proceso\n",
    "                LIMIT {limit} OFFSET {offset}\n",
    "            \"\"\"\n",
    "            results = client.get(codigo_dataset, query=query)\n",
    "\n",
    "            if not results:\n",
    "                print(\"✅ Lote vacío recibido. Fin de la carga.\")\n",
    "                offset = TOTAL_REGISTROS  # Forzar salida del bucle principal\n",
    "                break\n",
    "\n",
    "            # Convertir a Spark DataFrame y guardar en tabla Delta\n",
    "            spark.createDataFrame(results).write \\\n",
    "                .format(\"delta\") \\\n",
    "                .mode(write_mode) \\\n",
    "                .option(\"overwriteSchema\", \"true\") \\\n",
    "                .saveAsTable(\"main.diplomado_datos.ids_contratos_procesos\")\n",
    "\n",
    "            print(f\"📦 Lote de {len(results):,} registros desde offset {offset} cargado.\")\n",
    "            offset += limit\n",
    "            write_mode = \"append\"\n",
    "            break\n",
    "\n",
    "        except Exception as e:\n",
    "            intentos += 1\n",
    "            print(f\"🚨 Error al obtener o cargar lote: {e}\")\n",
    "            print(f\"🔁 Reintentando ({intentos}/{reintentos})...\")\n",
    "            time.sleep(40)\n",
    "\n",
    "    else:\n",
    "        print(\"❌ Se alcanzó el número máximo de intentos. Cancelando proceso.\")\n",
    "        break\n",
    "\n",
    "print(\"🏁 Proceso finalizado correctamente.\")\n",
    "\n"
   ]
  }
 ],
 "metadata": {
  "application/vnd.databricks.v1+notebook": {
   "computePreferences": {
    "hardware": {
     "accelerator": null,
     "gpuPoolId": null,
     "memory": null
    }
   },
   "dashboards": [],
   "environmentMetadata": {
    "base_environment": "",
    "dependencies": [
     "sodapy==2.2.0"
    ],
    "environment_version": "2"
   },
   "inputWidgetPreferences": null,
   "language": "python",
   "notebookMetadata": {
    "pythonIndentUnit": 4
   },
   "notebookName": "Cuaderno_ingesta de datos Socrata)",
   "widgets": {
    "codigo_dataset": {
     "currentValue": "rpmr-utcd",
     "nuid": "366710dd-6d55-4617-b67d-0108ef3ed796",
     "typedWidgetInfo": {
      "autoCreated": false,
      "defaultValue": "",
      "label": "",
      "name": "codigo_dataset",
      "options": {
       "widgetDisplayType": "Text",
       "validationRegex": null
      },
      "parameterDataType": "String"
     },
     "widgetInfo": {
      "widgetType": "text",
      "defaultValue": "",
      "label": "",
      "name": "codigo_dataset",
      "options": {
       "widgetType": "text",
       "autoCreated": false,
       "validationRegex": null
      }
     }
    },
    "token_app": {
     "currentValue": "UxmFqvt7k4Hz88RCkIkdtXg2l",
     "nuid": "73e6a7a6-fc81-4a98-a65b-c70615dc009b",
     "typedWidgetInfo": {
      "autoCreated": false,
      "defaultValue": "UxmFqvt7k4Hz88RCkIkdtXg2l",
      "label": "",
      "name": "token_app",
      "options": {
       "widgetDisplayType": "Text",
       "validationRegex": null
      },
      "parameterDataType": "String"
     },
     "widgetInfo": {
      "widgetType": "text",
      "defaultValue": "UxmFqvt7k4Hz88RCkIkdtXg2l",
      "label": "",
      "name": "token_app",
      "options": {
       "widgetType": "text",
       "autoCreated": false,
       "validationRegex": null
      }
     }
    }
   }
  },
  "language_info": {
   "name": "python"
  }
 },
 "nbformat": 4,
 "nbformat_minor": 0
}
